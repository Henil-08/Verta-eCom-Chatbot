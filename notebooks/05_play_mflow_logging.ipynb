{
 "cells": [
  {
   "cell_type": "code",
   "execution_count": null,
   "metadata": {},
   "outputs": [],
   "source": [
    "import os\n",
    "import mlflow\n",
    "from dotenv import load_dotenv\n",
    "from src.old_graph import create_graph"
   ]
  },
  {
   "cell_type": "code",
   "execution_count": 5,
   "metadata": {},
   "outputs": [
    {
     "data": {
      "text/plain": [
       "'/Users/henil08/College/Semesters/Fall 2024/eCom-Chatbot/notebooks'"
      ]
     },
     "execution_count": 5,
     "metadata": {},
     "output_type": "execute_result"
    }
   ],
   "source": [
    "%pwd"
   ]
  },
  {
   "cell_type": "code",
   "execution_count": 6,
   "metadata": {},
   "outputs": [],
   "source": [
    "os.chdir('../')"
   ]
  },
  {
   "cell_type": "code",
   "execution_count": 8,
   "metadata": {},
   "outputs": [
    {
     "data": {
      "text/plain": [
       "True"
      ]
     },
     "execution_count": 8,
     "metadata": {},
     "output_type": "execute_result"
    }
   ],
   "source": [
    "load_dotenv()"
   ]
  },
  {
   "cell_type": "code",
   "execution_count": 9,
   "metadata": {},
   "outputs": [],
   "source": [
    "## load the API Keys\n",
    "os.environ['HF_TOKEN']=os.getenv(\"HF_TOKEN\")\n",
    "os.environ['OPENAI_API_KEY']=os.getenv(\"OPENAI_API_KEY\")\n",
    "os.environ['GROQ_API_KEY']=os.getenv(\"GROQ_API_KEY\")\n",
    "\n",
    "## Langfuse\n",
    "os.environ['LANGFUSE_PUBLIC_KEY']=os.getenv(\"LANGFUSE_PUBLIC_KEY\")\n",
    "os.environ['LANGFUSE_SECRET_KEY']=os.getenv(\"LANGFUSE_SECRET_KEY\")\n",
    "os.environ['LANGFUSE_HOST']=os.getenv(\"LANGFUSE_HOST\")\n",
    "\n",
    "## Postgres DB\n",
    "instance_connection_name = os.getenv(\"INSTANCE_CONNECTION_NAME\")\n",
    "db_user = os.getenv(\"DB_USER\")  \n",
    "db_pass = os.getenv(\"DB_PASS\")  \n",
    "db_name = os.getenv(\"DB_NAME\")  "
   ]
  },
  {
   "cell_type": "code",
   "execution_count": 10,
   "metadata": {},
   "outputs": [],
   "source": [
    "from langfuse.callback import CallbackHandler\n",
    "\n",
    "langfuse_handler = CallbackHandler(\n",
    "    public_key=os.environ['LANGFUSE_PUBLIC_KEY'],\n",
    "    secret_key=os.environ['LANGFUSE_SECRET_KEY'],\n",
    "    host=os.environ['LANGFUSE_HOST']\n",
    ")"
   ]
  },
  {
   "cell_type": "code",
   "execution_count": 15,
   "metadata": {},
   "outputs": [],
   "source": [
    "mlflow.models.set_model(create_graph(isMemory=True))"
   ]
  },
  {
   "cell_type": "code",
   "execution_count": null,
   "metadata": {},
   "outputs": [
    {
     "name": "stderr",
     "output_type": "stream",
     "text": [
      "2024/11/14 00:54:38 WARNING mlflow.models.model: Model logged without a signature and input example. Please set `input_example` parameter when logging the model to auto infer the model signature.\n"
     ]
    }
   ],
   "source": [
    "config = {\"configurable\": {\"thread_id\": \"1\"}, \"callbacks\": [langfuse_handler]}\n",
    "\n",
    "input_example = {\n",
    "    \"question\": \"What is the product dimension?\", \n",
    "    \"meta_data\": \"cache/meta/ABCD-B072K6TLJX.csv\",\n",
    "    \"retriever\": \"cache/faiss/ABCD-B072K6TLJX\",\n",
    "    \"config\": config\n",
    "}\n",
    "\n",
    "with mlflow.start_run() as run_id:\n",
    "    model_info = mlflow.langchain.log_model(\n",
    "        lc_model=\"src/graph.py\", # Path to our model Python file\n",
    "        artifact_path=\"langgraph\",\n",
    "        pip_requirements=\"requirements.txt\",\n",
    "    )\n",
    "\n",
    "    model_uri = model_info.model_uri"
   ]
  },
  {
   "cell_type": "code",
   "execution_count": 22,
   "metadata": {},
   "outputs": [
    {
     "data": {
      "text/plain": [
       "'runs:/24edf641d1204bc1a491929ded90279d/langgraph'"
      ]
     },
     "execution_count": 22,
     "metadata": {},
     "output_type": "execute_result"
    }
   ],
   "source": [
    "model_uri"
   ]
  },
  {
   "cell_type": "code",
   "execution_count": 23,
   "metadata": {},
   "outputs": [],
   "source": [
    "loaded_model = mlflow.langchain.load_model(model_uri)"
   ]
  },
  {
   "cell_type": "code",
   "execution_count": 24,
   "metadata": {},
   "outputs": [],
   "source": [
    "config = {\"configurable\": {\"thread_id\": \"1\"}, \"callbacks\": [langfuse_handler]}"
   ]
  },
  {
   "cell_type": "code",
   "execution_count": 25,
   "metadata": {},
   "outputs": [],
   "source": [
    "payload = {\n",
    "    \"question\": \"What is the product dimension?\", \n",
    "    \"meta_data\": \"cache/meta/ABCD-B072K6TLJX.csv\",\n",
    "    \"retriever\": \"cache/faiss/ABCD-B072K6TLJX\",\n",
    "}\n",
    "response = loaded_model.invoke(payload, config=config)"
   ]
  },
  {
   "cell_type": "code",
   "execution_count": 26,
   "metadata": {},
   "outputs": [
    {
     "data": {
      "text/plain": [
       "'The product dimensions are 1.01 inches in length, 0.73 inches in width, and 0.57 inches in height.'"
      ]
     },
     "execution_count": 26,
     "metadata": {},
     "output_type": "execute_result"
    }
   ],
   "source": [
    "response['answer'].content"
   ]
  },
  {
   "cell_type": "code",
   "execution_count": null,
   "metadata": {},
   "outputs": [],
   "source": []
  }
 ],
 "metadata": {
  "kernelspec": {
   "display_name": "Python 3",
   "language": "python",
   "name": "python3"
  },
  "language_info": {
   "codemirror_mode": {
    "name": "ipython",
    "version": 3
   },
   "file_extension": ".py",
   "mimetype": "text/x-python",
   "name": "python",
   "nbconvert_exporter": "python",
   "pygments_lexer": "ipython3",
   "version": "3.12.7"
  }
 },
 "nbformat": 4,
 "nbformat_minor": 2
}
