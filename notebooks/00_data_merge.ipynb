{
 "cells": [
  {
   "cell_type": "markdown",
   "metadata": {},
   "source": [
    "# Merge Review Data"
   ]
  },
  {
   "cell_type": "code",
   "execution_count": 21,
   "metadata": {},
   "outputs": [],
   "source": [
    "import os"
   ]
  },
  {
   "cell_type": "code",
   "execution_count": 24,
   "metadata": {},
   "outputs": [
    {
     "data": {
      "text/plain": [
       "'f:\\\\College\\\\Masters\\\\Semesters\\\\Fall 2024\\\\MLOps\\\\eCom-chat'"
      ]
     },
     "execution_count": 24,
     "metadata": {},
     "output_type": "execute_result"
    }
   ],
   "source": [
    "%pwd"
   ]
  },
  {
   "cell_type": "code",
   "execution_count": 23,
   "metadata": {},
   "outputs": [],
   "source": [
    "os.chdir('../')"
   ]
  },
  {
   "cell_type": "markdown",
   "metadata": {},
   "source": [
    "### View Data"
   ]
  },
  {
   "cell_type": "code",
   "execution_count": 1,
   "metadata": {},
   "outputs": [],
   "source": [
    "import json"
   ]
  },
  {
   "cell_type": "code",
   "execution_count": 14,
   "metadata": {},
   "outputs": [],
   "source": [
    "video_review = 'data/review_Video_Games.jsonl'\n",
    "toy_review = 'data/review_Toys_and_Games.jsonl'"
   ]
  },
  {
   "cell_type": "code",
   "execution_count": 15,
   "metadata": {},
   "outputs": [
    {
     "name": "stdout",
     "output_type": "stream",
     "text": [
      "{\n",
      "    \"rating\": 4.0,\n",
      "    \"title\": \"It\\u2019s pretty sexual. Not my fav\",\n",
      "    \"text\": \"I\\u2019m playing on ps5 and it\\u2019s interesting.  It\\u2019s unique, massive, and has a neat story.  People are freaking out angry about this game.  I don\\u2019t think it\\u2019s a top 10 game but it\\u2019s definitely a good game on ps5 (played at launch).\",\n",
      "    \"images\": [],\n",
      "    \"asin\": \"B07DJWBYKP\",\n",
      "    \"parent_asin\": \"B07DK1H3H5\",\n",
      "    \"user_id\": \"AGCI7FAH4GL5FI65HYLKWTMFZ2CQ\",\n",
      "    \"timestamp\": 1608186804795,\n",
      "    \"helpful_vote\": 0,\n",
      "    \"verified_purchase\": true\n",
      "}\n"
     ]
    }
   ],
   "source": [
    "with open(video_review, 'r') as fp:\n",
    "    for line in fp:\n",
    "        print(json.dumps(json.loads(line.strip()), indent=4))\n",
    "        break"
   ]
  },
  {
   "cell_type": "code",
   "execution_count": 16,
   "metadata": {},
   "outputs": [
    {
     "name": "stdout",
     "output_type": "stream",
     "text": [
      "{\n",
      "    \"rating\": 5.0,\n",
      "    \"title\": \"Granddaughters love them!\",\n",
      "    \"text\": \"I purchased several of these for my granddaughters for Xmas & they absolutely love them. In fact so do their brothers. Lol. Be aware that there are tiny magnets in them so that you can perch the ppl onto the animals & keep them there. I almost didn\\u2019t buy them bc of that given all the news stories about kids and magnets, but the magnets are INSIDE the toys. So as long as ur kids aren\\u2019t eating their toys you should be okay, but be careful around your pets so that the pets don\\u2019t try to eat them.  My grandkids adore all things Schleich as do I bc I bought it for their parents too decades ago.  Schleich is well made & lasts forever.\",\n",
      "    \"images\": [],\n",
      "    \"asin\": \"B09QH7QJS7\",\n",
      "    \"parent_asin\": \"B09QH7QJS7\",\n",
      "    \"user_id\": \"AFKZENTNBQ7A7V7UXW5JJI6UGRYQ\",\n",
      "    \"timestamp\": 1677939664713,\n",
      "    \"helpful_vote\": 0,\n",
      "    \"verified_purchase\": true\n",
      "}\n"
     ]
    }
   ],
   "source": [
    "with open(toy_review, 'r') as fp:\n",
    "    for line in fp:\n",
    "        print(json.dumps(json.loads(line.strip()), indent=4))\n",
    "        break"
   ]
  },
  {
   "cell_type": "markdown",
   "metadata": {},
   "source": [
    "### Merge Data"
   ]
  },
  {
   "cell_type": "code",
   "execution_count": 17,
   "metadata": {},
   "outputs": [],
   "source": [
    "output_file = 'data/reviews_Toys_and_Video_Games.jsonl'"
   ]
  },
  {
   "cell_type": "code",
   "execution_count": 19,
   "metadata": {},
   "outputs": [],
   "source": [
    "# Open output file in write mode\n",
    "with open(output_file, 'w') as out_fp:\n",
    "    \n",
    "    # Open the video games review file and write its content to the output file\n",
    "    with open(video_review, 'r') as video_fp:\n",
    "        for line in video_fp:\n",
    "            out_fp.write(line)\n",
    "    \n",
    "    # Open the toys review file and write its content to the output file\n",
    "    with open(toy_review, 'r') as toy_fp:\n",
    "        for line in toy_fp:\n",
    "            out_fp.write(line)"
   ]
  },
  {
   "cell_type": "markdown",
   "metadata": {},
   "source": [
    "# Merge Meta Data"
   ]
  },
  {
   "cell_type": "markdown",
   "metadata": {},
   "source": [
    "### View Data"
   ]
  },
  {
   "cell_type": "code",
   "execution_count": 26,
   "metadata": {},
   "outputs": [],
   "source": [
    "video_meta = 'data/meta_Video_Games.jsonl'\n",
    "toy_meta = 'data/meta_Toys_and_Games.jsonl'"
   ]
  },
  {
   "cell_type": "code",
   "execution_count": 27,
   "metadata": {},
   "outputs": [
    {
     "name": "stdout",
     "output_type": "stream",
     "text": [
      "{\n",
      "    \"main_category\": \"Video Games\",\n",
      "    \"title\": \"Dash 8-300 Professional Add-On\",\n",
      "    \"average_rating\": 5.0,\n",
      "    \"rating_number\": 1,\n",
      "    \"features\": [\n",
      "        \"Features Dash 8-300 and 8-Q300 ('Q' rollout livery)\",\n",
      "        \"Airlines - US Airways, South African Express, Bahamasair, Augsburg Airways, Lufthansa Cityline, British Airways (Union Jack), British European, FlyBe, Intersky, Wideroe, Iberia, Tyrolean, QantasLink, BWIA\",\n",
      "        \"Airports include - London City, Frankfurt, Milan and Amsterdam Schipol\",\n",
      "        \"Includes PSS PanelConfig and LoadEdit tools\"\n",
      "    ],\n",
      "    \"description\": [\n",
      "        \"The Dash 8-300 Professional Add-On lets you pilot a real commuter special. Fly two versions of the popular Dash 8-300 in a total of 17 different liveries. The Dash 8-300 is one of the most popular short-haul aircraft available and this superbly modelled version from acclaimed aircraft developers PSS is modelled in two versions with a total of 17 different liveries. The package also includes scenery for three European airports, tutorials, tutorial flights and utilities together in one fantastic package.\"\n",
      "    ],\n",
      "    \"price\": null,\n",
      "    \"images\": [\n",
      "        {\n",
      "            \"thumb\": \"https://m.media-amazon.com/images/I/21DVWE41A0L._SX38_SY50_CR,0,0,38,50_.jpg\",\n",
      "            \"large\": \"https://m.media-amazon.com/images/I/21DVWE41A0L.jpg\",\n",
      "            \"variant\": \"MAIN\",\n",
      "            \"hi_res\": null\n",
      "        }\n",
      "    ],\n",
      "    \"videos\": [],\n",
      "    \"store\": \"Aerosoft\",\n",
      "    \"categories\": [\n",
      "        \"Video Games\",\n",
      "        \"PC\",\n",
      "        \"Games\"\n",
      "    ],\n",
      "    \"details\": {\n",
      "        \"Pricing\": \"The strikethrough price is the List Price. Savings represents a discount off the List Price.\",\n",
      "        \"Package Dimensions\": \"7.5 x 5.5 x 0.6 inches; 4.8 Ounces\",\n",
      "        \"Type of item\": \"CD-ROM\",\n",
      "        \"Rated\": \"Everyone\",\n",
      "        \"Item Weight\": \"4.8 ounces\",\n",
      "        \"Manufacturer\": \"Aerosoft N.A. LTD\",\n",
      "        \"Date First Available\": \"October 2, 2001\"\n",
      "    },\n",
      "    \"parent_asin\": \"B000FH0MHO\",\n",
      "    \"bought_together\": null\n",
      "}\n"
     ]
    }
   ],
   "source": [
    "with open(video_meta, 'r') as fp:\n",
    "    for line in fp:\n",
    "        print(json.dumps(json.loads(line.strip()), indent=4))\n",
    "        break"
   ]
  },
  {
   "cell_type": "code",
   "execution_count": 28,
   "metadata": {},
   "outputs": [
    {
     "name": "stdout",
     "output_type": "stream",
     "text": [
      "{\n",
      "    \"main_category\": \"Toys & Games\",\n",
      "    \"title\": \"KUNGOON Happy Anniversary Balloon Banner,Wedding Anniversary Party Decorations,Love Party and Anniversary Party Supplies,16 Inch Gold Aluminum Foil.\",\n",
      "    \"average_rating\": 4.5,\n",
      "    \"rating_number\": 241,\n",
      "    \"features\": [],\n",
      "    \"description\": [],\n",
      "    \"price\": null,\n",
      "    \"images\": [\n",
      "        {\n",
      "            \"thumb\": \"https://m.media-amazon.com/images/I/41enwmDCoZL._AC_US40_.jpg\",\n",
      "            \"large\": \"https://m.media-amazon.com/images/I/41enwmDCoZL._AC_.jpg\",\n",
      "            \"variant\": \"MAIN\",\n",
      "            \"hi_res\": \"https://m.media-amazon.com/images/I/51tskkWgFmL._AC_SL1000_.jpg\"\n",
      "        },\n",
      "        {\n",
      "            \"thumb\": \"https://m.media-amazon.com/images/I/414NxCPIOmL._AC_US40_.jpg\",\n",
      "            \"large\": \"https://m.media-amazon.com/images/I/414NxCPIOmL._AC_.jpg\",\n",
      "            \"variant\": \"PT01\",\n",
      "            \"hi_res\": \"https://m.media-amazon.com/images/I/51pCkL9l5LL._AC_SL1000_.jpg\"\n",
      "        },\n",
      "        {\n",
      "            \"thumb\": \"https://m.media-amazon.com/images/I/516olygyHAL._AC_US40_.jpg\",\n",
      "            \"large\": \"https://m.media-amazon.com/images/I/516olygyHAL._AC_.jpg\",\n",
      "            \"variant\": \"PT02\",\n",
      "            \"hi_res\": \"https://m.media-amazon.com/images/I/61vjFq1pe1L._AC_SL1000_.jpg\"\n",
      "        }\n",
      "    ],\n",
      "    \"videos\": [\n",
      "        {\n",
      "            \"title\": \"Pretty Cool!\",\n",
      "            \"url\": \"https://www.amazon.com/vdp/0143c17cceb14b109027a2d0a5017220?ref=dp_vse_rvc_0\",\n",
      "            \"user_id\": \"AFQUT3ROCJWTQSNJ2GONWHYRFPCA\"\n",
      "        },\n",
      "        {\n",
      "            \"title\": \"Product assembly and renderings.\",\n",
      "            \"url\": \"https://www.amazon.com/vdp/02f17a3228a84e70a5d81787a4a9bd7c?ref=dp_vse_rvc_1\",\n",
      "            \"user_id\": \"\"\n",
      "        },\n",
      "        {\n",
      "            \"title\": \"Silver Happy Anniversary Balloons for Party\",\n",
      "            \"url\": \"https://www.amazon.com/vdp/076a6a74c39247d5999f2ce6b0151f3f?ref=dp_vse_rvc_2\",\n",
      "            \"user_id\": \"\"\n",
      "        },\n",
      "        {\n",
      "            \"title\": \"Red Happy Anniversary Balloons for Party Decorations\",\n",
      "            \"url\": \"https://www.amazon.com/vdp/0202ba851bf14fc1a0b77882c0f711c0?ref=dp_vse_rvc_3\",\n",
      "            \"user_id\": \"\"\n",
      "        },\n",
      "        {\n",
      "            \"title\": \"AULE Gold Number Balloons\",\n",
      "            \"url\": \"https://www.amazon.com/vdp/e6d66dc848a8448fbf8fa60077b523fe?ref=dp_vse_rvc_4\",\n",
      "            \"user_id\": \"\"\n",
      "        },\n",
      "        {\n",
      "            \"title\": \"EFAY  Inflation Video of 20 inch Pre-Stretched Clear BoBo Balloons \",\n",
      "            \"url\": \"https://www.amazon.com/vdp/06ef89743e2242f787adb1b84b1dd8e3?ref=dp_vse_rvc_5\",\n",
      "            \"user_id\": \"\"\n",
      "        },\n",
      "        {\n",
      "            \"title\": \"COKAOBE 120PCS Black Gold White Confetti Balloons Arch Kit\",\n",
      "            \"url\": \"https://www.amazon.com/vdp/0d7d7f64fb1a433cbee51bb05000039a?ref=dp_vse_rvc_6\",\n",
      "            \"user_id\": \"\"\n",
      "        },\n",
      "        {\n",
      "            \"title\": \"How to tie clear bobo balloons \",\n",
      "            \"url\": \"https://www.amazon.com/vdp/01fe12664be2426494a002dbee492be3?ref=dp_vse_rvc_7\",\n",
      "            \"user_id\": \"\"\n",
      "        }\n",
      "    ],\n",
      "    \"store\": \"Kunggo\",\n",
      "    \"categories\": [],\n",
      "    \"details\": {\n",
      "        \"Package Dimensions\": \"10.12 x 8.03 x 0.51 inches\",\n",
      "        \"Item Weight\": \"3.87 ounces\",\n",
      "        \"Occasion\": \"Wedding, Anniversary\",\n",
      "        \"Color\": \"Gold\",\n",
      "        \"Cartoon Character\": \"Tango\",\n",
      "        \"Material\": \"Aluminum\",\n",
      "        \"Unit Count\": \"1 Count\",\n",
      "        \"Number Theme\": \"Number 16\",\n",
      "        \"Brand\": \"Kunggo\",\n",
      "        \"CPSIA Cautionary Statement\": \"Choking Hazard - Balloon\"\n",
      "    },\n",
      "    \"parent_asin\": \"B08GPM7CQN\",\n",
      "    \"bought_together\": null\n",
      "}\n"
     ]
    }
   ],
   "source": [
    "with open(toy_meta, 'r') as fp:\n",
    "    for line in fp:\n",
    "        print(json.dumps(json.loads(line.strip()), indent=4))\n",
    "        break"
   ]
  },
  {
   "cell_type": "markdown",
   "metadata": {},
   "source": [
    "### Merge Data"
   ]
  },
  {
   "cell_type": "code",
   "execution_count": 29,
   "metadata": {},
   "outputs": [],
   "source": [
    "output_meta = 'data/meta_Toys_and_Video_Games.jsonl'"
   ]
  },
  {
   "cell_type": "code",
   "execution_count": 30,
   "metadata": {},
   "outputs": [],
   "source": [
    "# Open output file in write mode\n",
    "with open(output_meta, 'w') as out_fp:\n",
    "    \n",
    "    # Open the video games review file and write its content to the output file\n",
    "    with open(video_meta, 'r') as video_fp:\n",
    "        for line in video_fp:\n",
    "            out_fp.write(line)\n",
    "    \n",
    "    # Open the toys review file and write its content to the output file\n",
    "    with open(toy_meta, 'r') as toy_fp:\n",
    "        for line in toy_fp:\n",
    "            out_fp.write(line)"
   ]
  },
  {
   "cell_type": "code",
   "execution_count": null,
   "metadata": {},
   "outputs": [],
   "source": []
  }
 ],
 "metadata": {
  "kernelspec": {
   "display_name": "Python 3",
   "language": "python",
   "name": "python3"
  },
  "language_info": {
   "codemirror_mode": {
    "name": "ipython",
    "version": 3
   },
   "file_extension": ".py",
   "mimetype": "text/x-python",
   "name": "python",
   "nbconvert_exporter": "python",
   "pygments_lexer": "ipython3",
   "version": "3.10.0"
  }
 },
 "nbformat": 4,
 "nbformat_minor": 2
}
