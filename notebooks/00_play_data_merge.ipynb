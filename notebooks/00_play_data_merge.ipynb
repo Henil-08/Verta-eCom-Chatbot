{
 "cells": [
  {
   "cell_type": "code",
   "execution_count": 1,
   "metadata": {},
   "outputs": [],
   "source": [
    "import os\n",
    "import re\n",
    "import json\n",
    "from src.constants import VIDEO_GAME_METADATA, VIDEO_GAME_REVIEW, TOY_METADATA, TOY_REVIEW, OUTPUT_META, OUTPUT_REVIEW"
   ]
  },
  {
   "cell_type": "code",
   "execution_count": 3,
   "metadata": {},
   "outputs": [
    {
     "data": {
      "text/plain": [
       "'f:\\\\College\\\\Masters\\\\Semesters\\\\Fall 2024\\\\MLOps\\\\eCom-chat'"
      ]
     },
     "execution_count": 3,
     "metadata": {},
     "output_type": "execute_result"
    }
   ],
   "source": [
    "%pwd"
   ]
  },
  {
   "cell_type": "code",
   "execution_count": 2,
   "metadata": {},
   "outputs": [],
   "source": [
    "os.chdir('../')"
   ]
  },
  {
   "cell_type": "markdown",
   "metadata": {},
   "source": [
    "# Review Data"
   ]
  },
  {
   "cell_type": "markdown",
   "metadata": {},
   "source": [
    "### View Data"
   ]
  },
  {
   "cell_type": "code",
   "execution_count": 5,
   "metadata": {},
   "outputs": [
    {
     "name": "stdout",
     "output_type": "stream",
     "text": [
      "{\n",
      "    \"rating\": 4.0,\n",
      "    \"title\": \"It\\u2019s pretty sexual. Not my fav\",\n",
      "    \"text\": \"I\\u2019m playing on ps5 and it\\u2019s interesting.  It\\u2019s unique, massive, and has a neat story.  People are freaking out angry about this game.  I don\\u2019t think it\\u2019s a top 10 game but it\\u2019s definitely a good game on ps5 (played at launch).\",\n",
      "    \"images\": [],\n",
      "    \"asin\": \"B07DJWBYKP\",\n",
      "    \"parent_asin\": \"B07DK1H3H5\",\n",
      "    \"user_id\": \"AGCI7FAH4GL5FI65HYLKWTMFZ2CQ\",\n",
      "    \"timestamp\": 1608186804795,\n",
      "    \"helpful_vote\": 0,\n",
      "    \"verified_purchase\": true\n",
      "}\n"
     ]
    }
   ],
   "source": [
    "with open(VIDEO_GAME_REVIEW, 'r') as fp:\n",
    "    for line in fp:\n",
    "        print(json.dumps(json.loads(line.strip()), indent=4))\n",
    "        break"
   ]
  },
  {
   "cell_type": "code",
   "execution_count": 6,
   "metadata": {},
   "outputs": [
    {
     "name": "stdout",
     "output_type": "stream",
     "text": [
      "{\n",
      "    \"rating\": 5.0,\n",
      "    \"title\": \"Granddaughters love them!\",\n",
      "    \"text\": \"I purchased several of these for my granddaughters for Xmas & they absolutely love them. In fact so do their brothers. Lol. Be aware that there are tiny magnets in them so that you can perch the ppl onto the animals & keep them there. I almost didn\\u2019t buy them bc of that given all the news stories about kids and magnets, but the magnets are INSIDE the toys. So as long as ur kids aren\\u2019t eating their toys you should be okay, but be careful around your pets so that the pets don\\u2019t try to eat them.  My grandkids adore all things Schleich as do I bc I bought it for their parents too decades ago.  Schleich is well made & lasts forever.\",\n",
      "    \"images\": [],\n",
      "    \"asin\": \"B09QH7QJS7\",\n",
      "    \"parent_asin\": \"B09QH7QJS7\",\n",
      "    \"user_id\": \"AFKZENTNBQ7A7V7UXW5JJI6UGRYQ\",\n",
      "    \"timestamp\": 1677939664713,\n",
      "    \"helpful_vote\": 0,\n",
      "    \"verified_purchase\": true\n",
      "}\n"
     ]
    }
   ],
   "source": [
    "with open(TOY_REVIEW, 'r') as fp:\n",
    "    for line in fp:\n",
    "        print(json.dumps(json.loads(line.strip()), indent=4))\n",
    "        break"
   ]
  },
  {
   "cell_type": "markdown",
   "metadata": {},
   "source": [
    "### Merge Data"
   ]
  },
  {
   "cell_type": "code",
   "execution_count": 30,
   "metadata": {},
   "outputs": [],
   "source": [
    "# Open output file in write mode\n",
    "with open(OUTPUT_REVIEW, 'w') as out_fp:\n",
    "    \n",
    "    # Open the video games review file and write its content to the output file\n",
    "    with open(VIDEO_GAME_REVIEW, 'r') as video_fp:\n",
    "        for line in video_fp:\n",
    "            out_fp.write(line)\n",
    "    \n",
    "    # Open the toys review file and write its content to the output file\n",
    "    with open(TOY_REVIEW, 'r') as toy_fp:\n",
    "        for line in toy_fp:\n",
    "            out_fp.write(line)"
   ]
  },
  {
   "cell_type": "markdown",
   "metadata": {},
   "source": [
    "# Meta Data"
   ]
  },
  {
   "cell_type": "markdown",
   "metadata": {},
   "source": [
    "### View Data"
   ]
  },
  {
   "cell_type": "code",
   "execution_count": 7,
   "metadata": {},
   "outputs": [
    {
     "name": "stdout",
     "output_type": "stream",
     "text": [
      "{\n",
      "    \"main_category\": \"Video Games\",\n",
      "    \"title\": \"Dash 8-300 Professional Add-On\",\n",
      "    \"average_rating\": 5.0,\n",
      "    \"rating_number\": 1,\n",
      "    \"features\": [\n",
      "        \"Features Dash 8-300 and 8-Q300 ('Q' rollout livery)\",\n",
      "        \"Airlines - US Airways, South African Express, Bahamasair, Augsburg Airways, Lufthansa Cityline, British Airways (Union Jack), British European, FlyBe, Intersky, Wideroe, Iberia, Tyrolean, QantasLink, BWIA\",\n",
      "        \"Airports include - London City, Frankfurt, Milan and Amsterdam Schipol\",\n",
      "        \"Includes PSS PanelConfig and LoadEdit tools\"\n",
      "    ],\n",
      "    \"description\": [\n",
      "        \"The Dash 8-300 Professional Add-On lets you pilot a real commuter special. Fly two versions of the popular Dash 8-300 in a total of 17 different liveries. The Dash 8-300 is one of the most popular short-haul aircraft available and this superbly modelled version from acclaimed aircraft developers PSS is modelled in two versions with a total of 17 different liveries. The package also includes scenery for three European airports, tutorials, tutorial flights and utilities together in one fantastic package.\"\n",
      "    ],\n",
      "    \"price\": null,\n",
      "    \"images\": [\n",
      "        {\n",
      "            \"thumb\": \"https://m.media-amazon.com/images/I/21DVWE41A0L._SX38_SY50_CR,0,0,38,50_.jpg\",\n",
      "            \"large\": \"https://m.media-amazon.com/images/I/21DVWE41A0L.jpg\",\n",
      "            \"variant\": \"MAIN\",\n",
      "            \"hi_res\": null\n",
      "        }\n",
      "    ],\n",
      "    \"videos\": [],\n",
      "    \"store\": \"Aerosoft\",\n",
      "    \"categories\": [\n",
      "        \"Video Games\",\n",
      "        \"PC\",\n",
      "        \"Games\"\n",
      "    ],\n",
      "    \"details\": {\n",
      "        \"Pricing\": \"The strikethrough price is the List Price. Savings represents a discount off the List Price.\",\n",
      "        \"Package Dimensions\": \"7.5 x 5.5 x 0.6 inches; 4.8 Ounces\",\n",
      "        \"Type of item\": \"CD-ROM\",\n",
      "        \"Rated\": \"Everyone\",\n",
      "        \"Item Weight\": \"4.8 ounces\",\n",
      "        \"Manufacturer\": \"Aerosoft N.A. LTD\",\n",
      "        \"Date First Available\": \"October 2, 2001\"\n",
      "    },\n",
      "    \"parent_asin\": \"B000FH0MHO\",\n",
      "    \"bought_together\": null\n",
      "}\n"
     ]
    }
   ],
   "source": [
    "with open(VIDEO_GAME_METADATA, 'r') as fp:\n",
    "    for line in fp:\n",
    "        print(json.dumps(json.loads(line.strip()), indent=4))\n",
    "        break"
   ]
  },
  {
   "cell_type": "code",
   "execution_count": 8,
   "metadata": {},
   "outputs": [
    {
     "name": "stdout",
     "output_type": "stream",
     "text": [
      "{\n",
      "    \"main_category\": \"Toys & Games\",\n",
      "    \"title\": \"KUNGOON Happy Anniversary Balloon Banner,Wedding Anniversary Party Decorations,Love Party and Anniversary Party Supplies,16 Inch Gold Aluminum Foil.\",\n",
      "    \"average_rating\": 4.5,\n",
      "    \"rating_number\": 241,\n",
      "    \"features\": [],\n",
      "    \"description\": [],\n",
      "    \"price\": null,\n",
      "    \"images\": [\n",
      "        {\n",
      "            \"thumb\": \"https://m.media-amazon.com/images/I/41enwmDCoZL._AC_US40_.jpg\",\n",
      "            \"large\": \"https://m.media-amazon.com/images/I/41enwmDCoZL._AC_.jpg\",\n",
      "            \"variant\": \"MAIN\",\n",
      "            \"hi_res\": \"https://m.media-amazon.com/images/I/51tskkWgFmL._AC_SL1000_.jpg\"\n",
      "        },\n",
      "        {\n",
      "            \"thumb\": \"https://m.media-amazon.com/images/I/414NxCPIOmL._AC_US40_.jpg\",\n",
      "            \"large\": \"https://m.media-amazon.com/images/I/414NxCPIOmL._AC_.jpg\",\n",
      "            \"variant\": \"PT01\",\n",
      "            \"hi_res\": \"https://m.media-amazon.com/images/I/51pCkL9l5LL._AC_SL1000_.jpg\"\n",
      "        },\n",
      "        {\n",
      "            \"thumb\": \"https://m.media-amazon.com/images/I/516olygyHAL._AC_US40_.jpg\",\n",
      "            \"large\": \"https://m.media-amazon.com/images/I/516olygyHAL._AC_.jpg\",\n",
      "            \"variant\": \"PT02\",\n",
      "            \"hi_res\": \"https://m.media-amazon.com/images/I/61vjFq1pe1L._AC_SL1000_.jpg\"\n",
      "        }\n",
      "    ],\n",
      "    \"videos\": [\n",
      "        {\n",
      "            \"title\": \"Pretty Cool!\",\n",
      "            \"url\": \"https://www.amazon.com/vdp/0143c17cceb14b109027a2d0a5017220?ref=dp_vse_rvc_0\",\n",
      "            \"user_id\": \"AFQUT3ROCJWTQSNJ2GONWHYRFPCA\"\n",
      "        },\n",
      "        {\n",
      "            \"title\": \"Product assembly and renderings.\",\n",
      "            \"url\": \"https://www.amazon.com/vdp/02f17a3228a84e70a5d81787a4a9bd7c?ref=dp_vse_rvc_1\",\n",
      "            \"user_id\": \"\"\n",
      "        },\n",
      "        {\n",
      "            \"title\": \"Silver Happy Anniversary Balloons for Party\",\n",
      "            \"url\": \"https://www.amazon.com/vdp/076a6a74c39247d5999f2ce6b0151f3f?ref=dp_vse_rvc_2\",\n",
      "            \"user_id\": \"\"\n",
      "        },\n",
      "        {\n",
      "            \"title\": \"Red Happy Anniversary Balloons for Party Decorations\",\n",
      "            \"url\": \"https://www.amazon.com/vdp/0202ba851bf14fc1a0b77882c0f711c0?ref=dp_vse_rvc_3\",\n",
      "            \"user_id\": \"\"\n",
      "        },\n",
      "        {\n",
      "            \"title\": \"AULE Gold Number Balloons\",\n",
      "            \"url\": \"https://www.amazon.com/vdp/e6d66dc848a8448fbf8fa60077b523fe?ref=dp_vse_rvc_4\",\n",
      "            \"user_id\": \"\"\n",
      "        },\n",
      "        {\n",
      "            \"title\": \"EFAY  Inflation Video of 20 inch Pre-Stretched Clear BoBo Balloons \",\n",
      "            \"url\": \"https://www.amazon.com/vdp/06ef89743e2242f787adb1b84b1dd8e3?ref=dp_vse_rvc_5\",\n",
      "            \"user_id\": \"\"\n",
      "        },\n",
      "        {\n",
      "            \"title\": \"COKAOBE 120PCS Black Gold White Confetti Balloons Arch Kit\",\n",
      "            \"url\": \"https://www.amazon.com/vdp/0d7d7f64fb1a433cbee51bb05000039a?ref=dp_vse_rvc_6\",\n",
      "            \"user_id\": \"\"\n",
      "        },\n",
      "        {\n",
      "            \"title\": \"How to tie clear bobo balloons \",\n",
      "            \"url\": \"https://www.amazon.com/vdp/01fe12664be2426494a002dbee492be3?ref=dp_vse_rvc_7\",\n",
      "            \"user_id\": \"\"\n",
      "        }\n",
      "    ],\n",
      "    \"store\": \"Kunggo\",\n",
      "    \"categories\": [],\n",
      "    \"details\": {\n",
      "        \"Package Dimensions\": \"10.12 x 8.03 x 0.51 inches\",\n",
      "        \"Item Weight\": \"3.87 ounces\",\n",
      "        \"Occasion\": \"Wedding, Anniversary\",\n",
      "        \"Color\": \"Gold\",\n",
      "        \"Cartoon Character\": \"Tango\",\n",
      "        \"Material\": \"Aluminum\",\n",
      "        \"Unit Count\": \"1 Count\",\n",
      "        \"Number Theme\": \"Number 16\",\n",
      "        \"Brand\": \"Kunggo\",\n",
      "        \"CPSIA Cautionary Statement\": \"Choking Hazard - Balloon\"\n",
      "    },\n",
      "    \"parent_asin\": \"B08GPM7CQN\",\n",
      "    \"bought_together\": null\n",
      "}\n"
     ]
    }
   ],
   "source": [
    "with open(TOY_METADATA, 'r') as fp:\n",
    "    for line in fp:\n",
    "        print(json.dumps(json.loads(line.strip()), indent=4))\n",
    "        break"
   ]
  },
  {
   "cell_type": "markdown",
   "metadata": {},
   "source": [
    "### Merge and Clean Data"
   ]
  },
  {
   "cell_type": "code",
   "execution_count": 23,
   "metadata": {},
   "outputs": [],
   "source": [
    "def clean_field_name_for_bigquery(field_name):\n",
    "    \"\"\"Clean the field name to meet BigQuery requirements.\"\"\"\n",
    "    # Replace spaces and special characters with underscores\n",
    "    cleaned_name = re.sub(r'[^a-zA-Z0-9_]', '_', field_name)\n",
    "    # Convert to lower case\n",
    "    cleaned_name = cleaned_name.lower()\n",
    "    # Truncate the field name to 300 characters if necessary\n",
    "    return cleaned_name[:300]"
   ]
  },
  {
   "cell_type": "code",
   "execution_count": 25,
   "metadata": {},
   "outputs": [],
   "source": [
    "def process_field_names(data, existing_fields=None):\n",
    "    \"\"\"Recursively rename fields to meet BigQuery's requirements and remove empty string field names.\"\"\"\n",
    "    if existing_fields is None:\n",
    "        existing_fields = set()\n",
    "        \n",
    "    if isinstance(data, dict):\n",
    "        cleaned_data = {}\n",
    "        for key, value in data.items():\n",
    "            # Clean the field name to comply with BigQuery\n",
    "            cleaned_key = clean_field_name_for_bigquery(key)\n",
    "            \n",
    "            # Ensure uniqueness of the cleaned field name\n",
    "            if cleaned_key in existing_fields:\n",
    "                suffix = 1\n",
    "                new_key = f\"{cleaned_key}_{suffix}\"\n",
    "                while new_key in existing_fields:\n",
    "                    suffix += 1\n",
    "                    new_key = f\"{cleaned_key}_{suffix}\"\n",
    "                cleaned_key = new_key\n",
    "            \n",
    "            # Add cleaned key to existing fields\n",
    "            existing_fields.add(cleaned_key)\n",
    "            \n",
    "            # Recursively process sub-fields\n",
    "            cleaned_data[cleaned_key] = process_field_names(value, existing_fields)\n",
    "        \n",
    "        # Remove any keys that are empty strings\n",
    "        return {k: v for k, v in cleaned_data.items() if k != \"\"}\n",
    "    \n",
    "    elif isinstance(data, list):\n",
    "        # Recursively process each item in the list\n",
    "        return [process_field_names(item, existing_fields) for item in data]\n",
    "    \n",
    "    else:\n",
    "        # Return the data as is if it's not a dict or list\n",
    "        return data"
   ]
  },
  {
   "cell_type": "code",
   "execution_count": 26,
   "metadata": {},
   "outputs": [],
   "source": [
    "def process_file_and_save(file_path, output_fp):\n",
    "    \"\"\"Process a JSONL file, clean field names, remove empty field names, and save to the output file.\"\"\"\n",
    "    with open(file_path, 'r') as fp:\n",
    "        for line in fp:\n",
    "            data = json.loads(line.strip())\n",
    "            cleaned_data = process_field_names(data)\n",
    "            # Write the cleaned and renamed data back to the output file\n",
    "            output_fp.write(json.dumps(cleaned_data) + '\\n')"
   ]
  },
  {
   "cell_type": "code",
   "execution_count": 28,
   "metadata": {},
   "outputs": [],
   "source": [
    "# Open the output file to save the cleaned data\n",
    "with open(OUTPUT_META, 'w') as out_fp:\n",
    "    # Process both files and save cleaned data for BigQuery\n",
    "    process_file_and_save(VIDEO_GAME_METADATA, out_fp)\n",
    "    process_file_and_save(TOY_METADATA, out_fp)"
   ]
  }
 ],
 "metadata": {
  "kernelspec": {
   "display_name": "Python 3",
   "language": "python",
   "name": "python3"
  },
  "language_info": {
   "codemirror_mode": {
    "name": "ipython",
    "version": 3
   },
   "file_extension": ".py",
   "mimetype": "text/x-python",
   "name": "python",
   "nbconvert_exporter": "python",
   "pygments_lexer": "ipython3",
   "version": "3.10.0"
  }
 },
 "nbformat": 4,
 "nbformat_minor": 2
}
