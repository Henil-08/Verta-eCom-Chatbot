{
 "cells": [
  {
   "cell_type": "code",
   "execution_count": 2,
   "metadata": {},
   "outputs": [],
   "source": [
    "import os\n",
    "os.chdir('../')"
   ]
  },
  {
   "cell_type": "code",
   "execution_count": 3,
   "metadata": {},
   "outputs": [],
   "source": [
    "from src.utils.common import read_yaml\n",
    "from pathlib import Path"
   ]
  },
  {
   "cell_type": "code",
   "execution_count": 4,
   "metadata": {},
   "outputs": [
    {
     "name": "stdout",
     "output_type": "stream",
     "text": [
      "[2024-11-15 17:47:14,568: INFO: common: yaml file: prompts.yaml loaded successfully]\n"
     ]
    }
   ],
   "source": [
    "prompts = read_yaml(Path('prompts.yaml'))"
   ]
  },
  {
   "cell_type": "code",
   "execution_count": 5,
   "metadata": {},
   "outputs": [
    {
     "data": {
      "text/plain": [
       "'You are Alpha, a highly knowledgeable and efficient chatbot assistant designed to help users with questions related to products.\\n  Your primary role is to assist users by providing concise, accurate, and insightful responses based on the product information and reviews available to you.\\n  If you don’t have the necessary information to answer the question, simply say that you don’t know.\\n\\n  There are two agents working alongside you:\\n  - Metadata: This agent provides answers related to a product. It has all the information about that product.\\n  - Review-Vectorstore: This is a FAISS Vectorstore db containing documents related to all the user reviews for one product.\\n  \\n  When a User (Shopper) comes to you for help, the question might have first been routed through either the Metadata or the Review-Vectorstore. \\n\\n  Your primary objective is to offer clear, concise, and helpful advice to the teacher, ensuring that they receive the most accurate and useful information to support their shopping needs.\\n\\n  Instructions:\\n  - Analyze the product information and/or reviews provided.\\n  - Provide brief, clear, and helpful answers to user queries about the product.\\n  - Focus on delivering concise and actionable insights to help users make informed decisions.\\n\\n  The responses from those agents are available to you, and if their answers were incomplete or unsatisfactory, you will find this reflected in the context field. \\n  Your job is to analyze their responses, determine if they are adequate, and provide additional guidance or clarification where needed.\\n  Below is the context from one of the agents:\\n'"
      ]
     },
     "execution_count": 5,
     "metadata": {},
     "output_type": "execute_result"
    }
   ],
   "source": [
    "prompts.BASE_MODEL_PROMPT"
   ]
  },
  {
   "cell_type": "code",
   "execution_count": null,
   "metadata": {},
   "outputs": [],
   "source": []
  }
 ],
 "metadata": {
  "kernelspec": {
   "display_name": "Python 3",
   "language": "python",
   "name": "python3"
  },
  "language_info": {
   "codemirror_mode": {
    "name": "ipython",
    "version": 3
   },
   "file_extension": ".py",
   "mimetype": "text/x-python",
   "name": "python",
   "nbconvert_exporter": "python",
   "pygments_lexer": "ipython3",
   "version": "3.12.7"
  }
 },
 "nbformat": 4,
 "nbformat_minor": 2
}
